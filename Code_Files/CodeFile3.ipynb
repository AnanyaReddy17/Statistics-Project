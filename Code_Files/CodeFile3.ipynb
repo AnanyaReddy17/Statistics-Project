{
 "cells": [
  {
   "cell_type": "markdown",
   "id": "10cd2935",
   "metadata": {},
   "source": [
    "## Hypothesis Testing for Chi - squared tests"
   ]
  },
  {
   "cell_type": "code",
   "execution_count": 18,
   "id": "4a3ae28d",
   "metadata": {},
   "outputs": [
    {
     "name": "stdout",
     "output_type": "stream",
     "text": [
      "{'Morning (9am - 1pm)': 123, 'Afternoon(2:30 pm - 5:30 pm)': 115, 'Evening (5:30 pm or later)  :(': 43}\n"
     ]
    },
    {
     "name": "stderr",
     "output_type": "stream",
     "text": [
      "C:\\Users\\Pranay\\AppData\\Local\\Temp\\ipykernel_13248\\1658596216.py:6: SettingWithCopyWarning: \n",
      "A value is trying to be set on a copy of a slice from a DataFrame.\n",
      "Try using .loc[row_indexer,col_indexer] = value instead\n",
      "\n",
      "See the caveats in the documentation: https://pandas.pydata.org/pandas-docs/stable/user_guide/indexing.html#returning-a-view-versus-a-copy\n",
      "  df1['You are most likely to attend classes during'] = df1['You are most likely to attend classes during'].apply(lambda x: x.split(','))\n"
     ]
    }
   ],
   "source": [
    "import numpy as np\n",
    "import pandas as pd\n",
    "\n",
    "df = pd.read_csv('Modified_Response.csv')\n",
    "df1 = df[df['Gender'] == 'Male'] \n",
    "df1['You are most likely to attend classes during'] = df1['You are most likely to attend classes during'].apply(lambda x: x.split(','))\n",
    "\n",
    "counts = {'Morning (9am - 1pm)': 0, 'Afternoon(2:30 pm - 5:30 pm)': 0, 'Evening (5:30 pm or later)  :(': 0}\n",
    "\n",
    "def cer(x, counts):\n",
    "    for i in x:\n",
    "        if i.strip() in counts:\n",
    "            counts[i.strip()] += 1\n",
    "\n",
    "df1['You are most likely to attend classes during'].apply(lambda x: cer(x, counts))\n",
    "\n",
    "print(counts)\n"
   ]
  },
  {
   "cell_type": "code",
   "execution_count": 19,
   "id": "2455f9e7",
   "metadata": {},
   "outputs": [
    {
     "name": "stdout",
     "output_type": "stream",
     "text": [
      "{'Morning (9am - 1pm)': 57, 'Afternoon(2:30 pm - 5:30 pm)': 33, 'Evening (5:30 pm or later)  :(': 14}\n"
     ]
    },
    {
     "name": "stderr",
     "output_type": "stream",
     "text": [
      "C:\\Users\\Pranay\\AppData\\Local\\Temp\\ipykernel_13248\\347240396.py:3: SettingWithCopyWarning: \n",
      "A value is trying to be set on a copy of a slice from a DataFrame.\n",
      "Try using .loc[row_indexer,col_indexer] = value instead\n",
      "\n",
      "See the caveats in the documentation: https://pandas.pydata.org/pandas-docs/stable/user_guide/indexing.html#returning-a-view-versus-a-copy\n",
      "  df2['You are most likely to attend classes during'] = df2['You are most likely to attend classes during'].apply(lambda x: x.split(','))\n"
     ]
    }
   ],
   "source": [
    "df = pd.read_csv('Modified_Response.csv')\n",
    "df2 = df[df['Gender'] == 'Female'] \n",
    "df2['You are most likely to attend classes during'] = df2['You are most likely to attend classes during'].apply(lambda x: x.split(','))\n",
    "\n",
    "counts = {'Morning (9am - 1pm)': 0, 'Afternoon(2:30 pm - 5:30 pm)': 0, 'Evening (5:30 pm or later)  :(': 0}\n",
    "\n",
    "def cer(x, counts):\n",
    "    for i in x:\n",
    "        if i.strip() in counts:\n",
    "            counts[i.strip()] += 1\n",
    "\n",
    "df2['You are most likely to attend classes during'].apply(lambda x: cer(x, counts))\n",
    "\n",
    "print(counts)"
   ]
  },
  {
   "cell_type": "code",
   "execution_count": 20,
   "id": "8adf88b5",
   "metadata": {},
   "outputs": [
    {
     "name": "stdout",
     "output_type": "stream",
     "text": [
      "Fail to reject H0: There is no significant association between education level and movie genre preference.\n"
     ]
    }
   ],
   "source": [
    "import scipy.stats\n",
    "\n",
    "# Degrees of freedom\n",
    "df = 2\n",
    "\n",
    "# Significance level\n",
    "alpha = 0.05\n",
    "\n",
    "# Critical value from chi-squared distribution\n",
    "critical_value = scipy.stats.chi2.ppf(1 - alpha, df)\n",
    "\n",
    "# Calculated chi-squared test statistic\n",
    "chi_squared = 3.827\n",
    "\n",
    "# Compare the calculated chi-squared test statistic with the critical value\n",
    "if chi_squared > critical_value:\n",
    "    print(\"Reject H0: There is a significant association between education level and class time preference.\")\n",
    "else:\n",
    "    print(\"Fail to reject H0: There is no significant association between education level and class time.\")\n"
   ]
  }
 ],
 "metadata": {
  "kernelspec": {
   "display_name": "Python 3 (ipykernel)",
   "language": "python",
   "name": "python3"
  },
  "language_info": {
   "codemirror_mode": {
    "name": "ipython",
    "version": 3
   },
   "file_extension": ".py",
   "mimetype": "text/x-python",
   "name": "python",
   "nbconvert_exporter": "python",
   "pygments_lexer": "ipython3",
   "version": "3.10.9"
  }
 },
 "nbformat": 4,
 "nbformat_minor": 5
}
